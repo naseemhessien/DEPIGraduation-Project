{
  "nbformat": 4,
  "nbformat_minor": 0,
  "metadata": {
    "colab": {
      "provenance": []
    },
    "kernelspec": {
      "name": "python3",
      "display_name": "Python 3"
    },
    "language_info": {
      "name": "python"
    }
  },
  "cells": [
    {
      "cell_type": "code",
      "execution_count": null,
      "metadata": {
        "colab": {
          "base_uri": "https://localhost:8080/"
        },
        "id": "EcVXfK-WYRL-",
        "outputId": "ef4f79d8-de9d-4558-e230-3ff20a046718"
      },
      "outputs": [
        {
          "output_type": "stream",
          "name": "stdout",
          "text": [
            "Drive already mounted at /content/drive; to attempt to forcibly remount, call drive.mount(\"/content/drive\", force_remount=True).\n"
          ]
        }
      ],
      "source": [
        "from google.colab import drive\n",
        "drive.mount('/content/drive')"
      ]
    },
    {
      "cell_type": "code",
      "source": [
        "file_path = '/content/drive/MyDrive/Cleaned_Manufacturing_Data (1).xlsx'\n",
        "import pandas as pd\n",
        "df = pd.read_excel(file_path)"
      ],
      "metadata": {
        "id": "NZJsfcsnM05V"
      },
      "execution_count": null,
      "outputs": []
    },
    {
      "cell_type": "code",
      "source": [
        "import matplotlib.pyplot as plt"
      ],
      "metadata": {
        "id": "xUwf8aCBYu6v"
      },
      "execution_count": null,
      "outputs": []
    },
    {
      "cell_type": "code",
      "source": [
        "df.head()"
      ],
      "metadata": {
        "colab": {
          "base_uri": "https://localhost:8080/",
          "height": 310
        },
        "id": "RKcuzBIcZAiv",
        "outputId": "9f65304e-b17f-4892-a431-00abd1bd701a"
      },
      "execution_count": null,
      "outputs": [
        {
          "output_type": "execute_result",
          "data": {
            "text/plain": [
              "    Batch  Downtime factor  Downtime minutes Downtime factors.Description  \\\n",
              "0  422111                2                60                 Batch change   \n",
              "1  422111                7                15              Machine failure   \n",
              "2  422112                2                20                 Batch change   \n",
              "3  422112                8                20           Batch coding error   \n",
              "4  422113                2                50                 Batch change   \n",
              "\n",
              "  Operator Error       Date Product Operator Start Time  End Time  \\\n",
              "0            Yes 2024-08-29  OR-600      Mac   11:50:00  14:05:00   \n",
              "1             No 2024-08-29  OR-600      Mac   11:50:00  14:05:00   \n",
              "2            Yes 2024-08-29  LE-600      Mac   14:05:00  15:45:00   \n",
              "3            Yes 2024-08-29  LE-600      Mac   14:05:00  15:45:00   \n",
              "4            Yes 2024-08-29  LE-600      Mac   15:45:00  17:35:00   \n",
              "\n",
              "   Minutes Of Production      Flavor Product_Size  Min batch time  \n",
              "0                  135.0      Orange       600 ml              60  \n",
              "1                  135.0      Orange       600 ml              60  \n",
              "2                  100.0  Lemon lime       600 ml              60  \n",
              "3                  100.0  Lemon lime       600 ml              60  \n",
              "4                  110.0  Lemon lime       600 ml              60  "
            ],
            "text/html": [
              "\n",
              "  <div id=\"df-0aff4435-2892-45fb-99a1-2c2f7f966d9b\" class=\"colab-df-container\">\n",
              "    <div>\n",
              "<style scoped>\n",
              "    .dataframe tbody tr th:only-of-type {\n",
              "        vertical-align: middle;\n",
              "    }\n",
              "\n",
              "    .dataframe tbody tr th {\n",
              "        vertical-align: top;\n",
              "    }\n",
              "\n",
              "    .dataframe thead th {\n",
              "        text-align: right;\n",
              "    }\n",
              "</style>\n",
              "<table border=\"1\" class=\"dataframe\">\n",
              "  <thead>\n",
              "    <tr style=\"text-align: right;\">\n",
              "      <th></th>\n",
              "      <th>Batch</th>\n",
              "      <th>Downtime factor</th>\n",
              "      <th>Downtime minutes</th>\n",
              "      <th>Downtime factors.Description</th>\n",
              "      <th>Operator Error</th>\n",
              "      <th>Date</th>\n",
              "      <th>Product</th>\n",
              "      <th>Operator</th>\n",
              "      <th>Start Time</th>\n",
              "      <th>End Time</th>\n",
              "      <th>Minutes Of Production</th>\n",
              "      <th>Flavor</th>\n",
              "      <th>Product_Size</th>\n",
              "      <th>Min batch time</th>\n",
              "    </tr>\n",
              "  </thead>\n",
              "  <tbody>\n",
              "    <tr>\n",
              "      <th>0</th>\n",
              "      <td>422111</td>\n",
              "      <td>2</td>\n",
              "      <td>60</td>\n",
              "      <td>Batch change</td>\n",
              "      <td>Yes</td>\n",
              "      <td>2024-08-29</td>\n",
              "      <td>OR-600</td>\n",
              "      <td>Mac</td>\n",
              "      <td>11:50:00</td>\n",
              "      <td>14:05:00</td>\n",
              "      <td>135.0</td>\n",
              "      <td>Orange</td>\n",
              "      <td>600 ml</td>\n",
              "      <td>60</td>\n",
              "    </tr>\n",
              "    <tr>\n",
              "      <th>1</th>\n",
              "      <td>422111</td>\n",
              "      <td>7</td>\n",
              "      <td>15</td>\n",
              "      <td>Machine failure</td>\n",
              "      <td>No</td>\n",
              "      <td>2024-08-29</td>\n",
              "      <td>OR-600</td>\n",
              "      <td>Mac</td>\n",
              "      <td>11:50:00</td>\n",
              "      <td>14:05:00</td>\n",
              "      <td>135.0</td>\n",
              "      <td>Orange</td>\n",
              "      <td>600 ml</td>\n",
              "      <td>60</td>\n",
              "    </tr>\n",
              "    <tr>\n",
              "      <th>2</th>\n",
              "      <td>422112</td>\n",
              "      <td>2</td>\n",
              "      <td>20</td>\n",
              "      <td>Batch change</td>\n",
              "      <td>Yes</td>\n",
              "      <td>2024-08-29</td>\n",
              "      <td>LE-600</td>\n",
              "      <td>Mac</td>\n",
              "      <td>14:05:00</td>\n",
              "      <td>15:45:00</td>\n",
              "      <td>100.0</td>\n",
              "      <td>Lemon lime</td>\n",
              "      <td>600 ml</td>\n",
              "      <td>60</td>\n",
              "    </tr>\n",
              "    <tr>\n",
              "      <th>3</th>\n",
              "      <td>422112</td>\n",
              "      <td>8</td>\n",
              "      <td>20</td>\n",
              "      <td>Batch coding error</td>\n",
              "      <td>Yes</td>\n",
              "      <td>2024-08-29</td>\n",
              "      <td>LE-600</td>\n",
              "      <td>Mac</td>\n",
              "      <td>14:05:00</td>\n",
              "      <td>15:45:00</td>\n",
              "      <td>100.0</td>\n",
              "      <td>Lemon lime</td>\n",
              "      <td>600 ml</td>\n",
              "      <td>60</td>\n",
              "    </tr>\n",
              "    <tr>\n",
              "      <th>4</th>\n",
              "      <td>422113</td>\n",
              "      <td>2</td>\n",
              "      <td>50</td>\n",
              "      <td>Batch change</td>\n",
              "      <td>Yes</td>\n",
              "      <td>2024-08-29</td>\n",
              "      <td>LE-600</td>\n",
              "      <td>Mac</td>\n",
              "      <td>15:45:00</td>\n",
              "      <td>17:35:00</td>\n",
              "      <td>110.0</td>\n",
              "      <td>Lemon lime</td>\n",
              "      <td>600 ml</td>\n",
              "      <td>60</td>\n",
              "    </tr>\n",
              "  </tbody>\n",
              "</table>\n",
              "</div>\n",
              "    <div class=\"colab-df-buttons\">\n",
              "\n",
              "  <div class=\"colab-df-container\">\n",
              "    <button class=\"colab-df-convert\" onclick=\"convertToInteractive('df-0aff4435-2892-45fb-99a1-2c2f7f966d9b')\"\n",
              "            title=\"Convert this dataframe to an interactive table.\"\n",
              "            style=\"display:none;\">\n",
              "\n",
              "  <svg xmlns=\"http://www.w3.org/2000/svg\" height=\"24px\" viewBox=\"0 -960 960 960\">\n",
              "    <path d=\"M120-120v-720h720v720H120Zm60-500h600v-160H180v160Zm220 220h160v-160H400v160Zm0 220h160v-160H400v160ZM180-400h160v-160H180v160Zm440 0h160v-160H620v160ZM180-180h160v-160H180v160Zm440 0h160v-160H620v160Z\"/>\n",
              "  </svg>\n",
              "    </button>\n",
              "\n",
              "  <style>\n",
              "    .colab-df-container {\n",
              "      display:flex;\n",
              "      gap: 12px;\n",
              "    }\n",
              "\n",
              "    .colab-df-convert {\n",
              "      background-color: #E8F0FE;\n",
              "      border: none;\n",
              "      border-radius: 50%;\n",
              "      cursor: pointer;\n",
              "      display: none;\n",
              "      fill: #1967D2;\n",
              "      height: 32px;\n",
              "      padding: 0 0 0 0;\n",
              "      width: 32px;\n",
              "    }\n",
              "\n",
              "    .colab-df-convert:hover {\n",
              "      background-color: #E2EBFA;\n",
              "      box-shadow: 0px 1px 2px rgba(60, 64, 67, 0.3), 0px 1px 3px 1px rgba(60, 64, 67, 0.15);\n",
              "      fill: #174EA6;\n",
              "    }\n",
              "\n",
              "    .colab-df-buttons div {\n",
              "      margin-bottom: 4px;\n",
              "    }\n",
              "\n",
              "    [theme=dark] .colab-df-convert {\n",
              "      background-color: #3B4455;\n",
              "      fill: #D2E3FC;\n",
              "    }\n",
              "\n",
              "    [theme=dark] .colab-df-convert:hover {\n",
              "      background-color: #434B5C;\n",
              "      box-shadow: 0px 1px 3px 1px rgba(0, 0, 0, 0.15);\n",
              "      filter: drop-shadow(0px 1px 2px rgba(0, 0, 0, 0.3));\n",
              "      fill: #FFFFFF;\n",
              "    }\n",
              "  </style>\n",
              "\n",
              "    <script>\n",
              "      const buttonEl =\n",
              "        document.querySelector('#df-0aff4435-2892-45fb-99a1-2c2f7f966d9b button.colab-df-convert');\n",
              "      buttonEl.style.display =\n",
              "        google.colab.kernel.accessAllowed ? 'block' : 'none';\n",
              "\n",
              "      async function convertToInteractive(key) {\n",
              "        const element = document.querySelector('#df-0aff4435-2892-45fb-99a1-2c2f7f966d9b');\n",
              "        const dataTable =\n",
              "          await google.colab.kernel.invokeFunction('convertToInteractive',\n",
              "                                                    [key], {});\n",
              "        if (!dataTable) return;\n",
              "\n",
              "        const docLinkHtml = 'Like what you see? Visit the ' +\n",
              "          '<a target=\"_blank\" href=https://colab.research.google.com/notebooks/data_table.ipynb>data table notebook</a>'\n",
              "          + ' to learn more about interactive tables.';\n",
              "        element.innerHTML = '';\n",
              "        dataTable['output_type'] = 'display_data';\n",
              "        await google.colab.output.renderOutput(dataTable, element);\n",
              "        const docLink = document.createElement('div');\n",
              "        docLink.innerHTML = docLinkHtml;\n",
              "        element.appendChild(docLink);\n",
              "      }\n",
              "    </script>\n",
              "  </div>\n",
              "\n",
              "\n",
              "<div id=\"df-99f55bc6-7760-4e0e-9fac-04d5b84c4d3d\">\n",
              "  <button class=\"colab-df-quickchart\" onclick=\"quickchart('df-99f55bc6-7760-4e0e-9fac-04d5b84c4d3d')\"\n",
              "            title=\"Suggest charts\"\n",
              "            style=\"display:none;\">\n",
              "\n",
              "<svg xmlns=\"http://www.w3.org/2000/svg\" height=\"24px\"viewBox=\"0 0 24 24\"\n",
              "     width=\"24px\">\n",
              "    <g>\n",
              "        <path d=\"M19 3H5c-1.1 0-2 .9-2 2v14c0 1.1.9 2 2 2h14c1.1 0 2-.9 2-2V5c0-1.1-.9-2-2-2zM9 17H7v-7h2v7zm4 0h-2V7h2v10zm4 0h-2v-4h2v4z\"/>\n",
              "    </g>\n",
              "</svg>\n",
              "  </button>\n",
              "\n",
              "<style>\n",
              "  .colab-df-quickchart {\n",
              "      --bg-color: #E8F0FE;\n",
              "      --fill-color: #1967D2;\n",
              "      --hover-bg-color: #E2EBFA;\n",
              "      --hover-fill-color: #174EA6;\n",
              "      --disabled-fill-color: #AAA;\n",
              "      --disabled-bg-color: #DDD;\n",
              "  }\n",
              "\n",
              "  [theme=dark] .colab-df-quickchart {\n",
              "      --bg-color: #3B4455;\n",
              "      --fill-color: #D2E3FC;\n",
              "      --hover-bg-color: #434B5C;\n",
              "      --hover-fill-color: #FFFFFF;\n",
              "      --disabled-bg-color: #3B4455;\n",
              "      --disabled-fill-color: #666;\n",
              "  }\n",
              "\n",
              "  .colab-df-quickchart {\n",
              "    background-color: var(--bg-color);\n",
              "    border: none;\n",
              "    border-radius: 50%;\n",
              "    cursor: pointer;\n",
              "    display: none;\n",
              "    fill: var(--fill-color);\n",
              "    height: 32px;\n",
              "    padding: 0;\n",
              "    width: 32px;\n",
              "  }\n",
              "\n",
              "  .colab-df-quickchart:hover {\n",
              "    background-color: var(--hover-bg-color);\n",
              "    box-shadow: 0 1px 2px rgba(60, 64, 67, 0.3), 0 1px 3px 1px rgba(60, 64, 67, 0.15);\n",
              "    fill: var(--button-hover-fill-color);\n",
              "  }\n",
              "\n",
              "  .colab-df-quickchart-complete:disabled,\n",
              "  .colab-df-quickchart-complete:disabled:hover {\n",
              "    background-color: var(--disabled-bg-color);\n",
              "    fill: var(--disabled-fill-color);\n",
              "    box-shadow: none;\n",
              "  }\n",
              "\n",
              "  .colab-df-spinner {\n",
              "    border: 2px solid var(--fill-color);\n",
              "    border-color: transparent;\n",
              "    border-bottom-color: var(--fill-color);\n",
              "    animation:\n",
              "      spin 1s steps(1) infinite;\n",
              "  }\n",
              "\n",
              "  @keyframes spin {\n",
              "    0% {\n",
              "      border-color: transparent;\n",
              "      border-bottom-color: var(--fill-color);\n",
              "      border-left-color: var(--fill-color);\n",
              "    }\n",
              "    20% {\n",
              "      border-color: transparent;\n",
              "      border-left-color: var(--fill-color);\n",
              "      border-top-color: var(--fill-color);\n",
              "    }\n",
              "    30% {\n",
              "      border-color: transparent;\n",
              "      border-left-color: var(--fill-color);\n",
              "      border-top-color: var(--fill-color);\n",
              "      border-right-color: var(--fill-color);\n",
              "    }\n",
              "    40% {\n",
              "      border-color: transparent;\n",
              "      border-right-color: var(--fill-color);\n",
              "      border-top-color: var(--fill-color);\n",
              "    }\n",
              "    60% {\n",
              "      border-color: transparent;\n",
              "      border-right-color: var(--fill-color);\n",
              "    }\n",
              "    80% {\n",
              "      border-color: transparent;\n",
              "      border-right-color: var(--fill-color);\n",
              "      border-bottom-color: var(--fill-color);\n",
              "    }\n",
              "    90% {\n",
              "      border-color: transparent;\n",
              "      border-bottom-color: var(--fill-color);\n",
              "    }\n",
              "  }\n",
              "</style>\n",
              "\n",
              "  <script>\n",
              "    async function quickchart(key) {\n",
              "      const quickchartButtonEl =\n",
              "        document.querySelector('#' + key + ' button');\n",
              "      quickchartButtonEl.disabled = true;  // To prevent multiple clicks.\n",
              "      quickchartButtonEl.classList.add('colab-df-spinner');\n",
              "      try {\n",
              "        const charts = await google.colab.kernel.invokeFunction(\n",
              "            'suggestCharts', [key], {});\n",
              "      } catch (error) {\n",
              "        console.error('Error during call to suggestCharts:', error);\n",
              "      }\n",
              "      quickchartButtonEl.classList.remove('colab-df-spinner');\n",
              "      quickchartButtonEl.classList.add('colab-df-quickchart-complete');\n",
              "    }\n",
              "    (() => {\n",
              "      let quickchartButtonEl =\n",
              "        document.querySelector('#df-99f55bc6-7760-4e0e-9fac-04d5b84c4d3d button');\n",
              "      quickchartButtonEl.style.display =\n",
              "        google.colab.kernel.accessAllowed ? 'block' : 'none';\n",
              "    })();\n",
              "  </script>\n",
              "</div>\n",
              "\n",
              "    </div>\n",
              "  </div>\n"
            ],
            "application/vnd.google.colaboratory.intrinsic+json": {
              "type": "dataframe",
              "variable_name": "df",
              "summary": "{\n  \"name\": \"df\",\n  \"rows\": 64,\n  \"fields\": [\n    {\n      \"column\": \"Batch\",\n      \"properties\": {\n        \"dtype\": \"number\",\n        \"std\": 11,\n        \"min\": 422111,\n        \"max\": 422148,\n        \"num_unique_values\": 38,\n        \"samples\": [\n          422144,\n          422147,\n          422114\n        ],\n        \"semantic_type\": \"\",\n        \"description\": \"\"\n      }\n    },\n    {\n      \"column\": \"Downtime factor\",\n      \"properties\": {\n        \"dtype\": \"number\",\n        \"std\": 3,\n        \"min\": 0,\n        \"max\": 12,\n        \"num_unique_values\": 12,\n        \"samples\": [\n          9,\n          5,\n          2\n        ],\n        \"semantic_type\": \"\",\n        \"description\": \"\"\n      }\n    },\n    {\n      \"column\": \"Downtime minutes\",\n      \"properties\": {\n        \"dtype\": \"number\",\n        \"std\": 12,\n        \"min\": 0,\n        \"max\": 60,\n        \"num_unique_values\": 21,\n        \"samples\": [\n          60,\n          13,\n          23\n        ],\n        \"semantic_type\": \"\",\n        \"description\": \"\"\n      }\n    },\n    {\n      \"column\": \"Downtime factors.Description\",\n      \"properties\": {\n        \"dtype\": \"category\",\n        \"num_unique_values\": 12,\n        \"samples\": [\n          \"Conveyor belt jam\",\n          \"Product spill\",\n          \"Batch change\"\n        ],\n        \"semantic_type\": \"\",\n        \"description\": \"\"\n      }\n    },\n    {\n      \"column\": \"Operator Error\",\n      \"properties\": {\n        \"dtype\": \"category\",\n        \"num_unique_values\": 3,\n        \"samples\": [\n          \"Yes\",\n          \"No\",\n          \"no error\"\n        ],\n        \"semantic_type\": \"\",\n        \"description\": \"\"\n      }\n    },\n    {\n      \"column\": \"Date\",\n      \"properties\": {\n        \"dtype\": \"date\",\n        \"min\": \"2024-08-29 00:00:00\",\n        \"max\": \"2024-09-03 00:00:00\",\n        \"num_unique_values\": 5,\n        \"samples\": [\n          \"2024-08-30 00:00:00\",\n          \"2024-09-03 00:00:00\",\n          \"2024-08-31 00:00:00\"\n        ],\n        \"semantic_type\": \"\",\n        \"description\": \"\"\n      }\n    },\n    {\n      \"column\": \"Product\",\n      \"properties\": {\n        \"dtype\": \"category\",\n        \"num_unique_values\": 6,\n        \"samples\": [\n          \"OR-600\",\n          \"LE-600\",\n          \"CO-2L\"\n        ],\n        \"semantic_type\": \"\",\n        \"description\": \"\"\n      }\n    },\n    {\n      \"column\": \"Operator\",\n      \"properties\": {\n        \"dtype\": \"category\",\n        \"num_unique_values\": 4,\n        \"samples\": [\n          \"Charlie\",\n          \"Dennis\",\n          \"Mac\"\n        ],\n        \"semantic_type\": \"\",\n        \"description\": \"\"\n      }\n    },\n    {\n      \"column\": \"Start Time\",\n      \"properties\": {\n        \"dtype\": \"object\",\n        \"num_unique_values\": 37,\n        \"samples\": [\n          \"20:22:00\",\n          \"14:15:00\",\n          \"17:35:00\"\n        ],\n        \"semantic_type\": \"\",\n        \"description\": \"\"\n      }\n    },\n    {\n      \"column\": \"End Time\",\n      \"properties\": {\n        \"dtype\": \"object\",\n        \"num_unique_values\": 38,\n        \"samples\": [\n          \"14:50:00\",\n          \"22:55:00\",\n          \"19:15:00\"\n        ],\n        \"semantic_type\": \"\",\n        \"description\": \"\"\n      }\n    },\n    {\n      \"column\": \"Minutes Of Production\",\n      \"properties\": {\n        \"dtype\": \"number\",\n        \"std\": 32.36366014553785,\n        \"min\": 59.99999999999994,\n        \"max\": 205.0000000000001,\n        \"num_unique_values\": 33,\n        \"samples\": [\n          205.0000000000001,\n          112.0000000000001,\n          67.0\n        ],\n        \"semantic_type\": \"\",\n        \"description\": \"\"\n      }\n    },\n    {\n      \"column\": \"Flavor\",\n      \"properties\": {\n        \"dtype\": \"category\",\n        \"num_unique_values\": 5,\n        \"samples\": [\n          \"Lemon lime\",\n          \"Root Berry\",\n          \"Cola\"\n        ],\n        \"semantic_type\": \"\",\n        \"description\": \"\"\n      }\n    },\n    {\n      \"column\": \"Product_Size\",\n      \"properties\": {\n        \"dtype\": \"category\",\n        \"num_unique_values\": 2,\n        \"samples\": [\n          \"2 L\",\n          \"600 ml\"\n        ],\n        \"semantic_type\": \"\",\n        \"description\": \"\"\n      }\n    },\n    {\n      \"column\": \"Min batch time\",\n      \"properties\": {\n        \"dtype\": \"number\",\n        \"std\": 14,\n        \"min\": 60,\n        \"max\": 98,\n        \"num_unique_values\": 2,\n        \"samples\": [\n          98,\n          60\n        ],\n        \"semantic_type\": \"\",\n        \"description\": \"\"\n      }\n    }\n  ]\n}"
            }
          },
          "metadata": {},
          "execution_count": 4
        }
      ]
    },
    {
      "cell_type": "markdown",
      "source": [
        "## ***1. Line Productivity:***"
      ],
      "metadata": {
        "id": "4qm7y1Q2ZbXD"
      }
    },
    {
      "cell_type": "markdown",
      "source": [
        "## **• How many batches met the optimum production time?**\n"
      ],
      "metadata": {
        "id": "qc6ZCdOnNH_E"
      }
    },
    {
      "cell_type": "code",
      "source": [
        "# Get unique batches and their production time vs min batch time\n",
        "batch_stats = df.groupby('Batch').agg({\n",
        "    'Minutes Of Production': 'first',  # Production time is same for all records of a batch\n",
        "    'Min batch time': 'first',        # Min time is same for all records of a batch\n",
        "    'Product': 'first',              # Include product name for reference\n",
        "    'Flavor': 'first'                # Include flavor for reference\n",
        "}).reset_index()\n",
        "\n",
        "# Calculate which batches were faster than optimum time (strictly lower)\n",
        "batch_stats['Faster_Than_Optimum'] = batch_stats['Minutes Of Production'] < batch_stats['Min batch time']\n",
        "\n",
        "# Count the results\n",
        "total_batches = len(batch_stats)\n",
        "faster_batches = batch_stats['Faster_Than_Optimum'].sum()\n",
        "percentage_faster = (faster_batches / total_batches) * 100\n",
        "\n",
        "# Get the list of batches that were faster than optimum\n",
        "faster_batches_list = batch_stats[batch_stats['Faster_Than_Optimum']][\n",
        "    ['Batch', 'Product', 'Flavor', 'Minutes Of Production', 'Min batch time']\n",
        "]\n",
        "\n",
        "# Print results\n",
        "print(f\"Total batches in dataset: {total_batches}\")\n",
        "print(f\"Batches with production time <= minimum batch time: {faster_batches} ({percentage_faster:.2f}%)\")\n",
        "print(faster_batches_list.to_string(index=False))"
      ],
      "metadata": {
        "colab": {
          "base_uri": "https://localhost:8080/"
        },
        "id": "v0pn8Y1mNI0A",
        "outputId": "77026786-bd21-4f84-e2b5-15163d6d6a55"
      },
      "execution_count": null,
      "outputs": [
        {
          "output_type": "stream",
          "name": "stdout",
          "text": [
            "Total batches in dataset: 38\n",
            "Batches with production time <= minimum batch time: 2 (5.26%)\n",
            " Batch Product     Flavor  Minutes Of Production  Min batch time\n",
            "422116  LE-600 Lemon lime                   60.0              60\n",
            "422136  DC-600  Diet Cola                   60.0              60\n"
          ]
        }
      ]
    },
    {
      "cell_type": "markdown",
      "source": [
        "## **• Batch Production Efficiency**\n",
        "\n"
      ],
      "metadata": {
        "id": "ICS3MIM5sETM"
      }
    },
    {
      "cell_type": "code",
      "source": [
        "# Convert 'No downtime' to 0 in Downtime minutes\n",
        "df['Downtime minutes'] = pd.to_numeric(df['Downtime minutes'], errors='coerce').fillna(0)"
      ],
      "metadata": {
        "id": "x-ZTJrljZM3J"
      },
      "execution_count": null,
      "outputs": []
    },
    {
      "cell_type": "code",
      "source": [
        "# Group by Batch to aggregate multiple records\n",
        "batch_stats = df.groupby('Batch').agg({\n",
        "    'Minutes Of Production': 'first',  # Clock time (same for all records of a batch)\n",
        "    'Downtime minutes': 'sum',         # Sum all downtime events\n",
        "    'Operator': 'first',               # Batch operator\n",
        "    'Product': 'first'                 # Batch product\n",
        "}).reset_index()\n",
        "\n",
        "# Calculate productive time and efficiency\n",
        "batch_stats['Productive Time'] = batch_stats['Minutes Of Production'] - batch_stats['Downtime minutes']\n",
        "batch_stats['Efficiency'] = (batch_stats['Productive Time'] / batch_stats['Minutes Of Production'] * 100).round(1)\n",
        "\n",
        "# Convert to hours:minutes\n",
        "def mins_to_hhmm(mins):\n",
        "    return f\"{int(mins//60)}h {int(mins%60)}m\"\n",
        "\n",
        "batch_stats['Clock_HHMM'] = batch_stats['Minutes Of Production'].apply(mins_to_hhmm)\n",
        "batch_stats['Downtime_HHMM'] = batch_stats['Downtime minutes'].apply(mins_to_hhmm)\n",
        "\n",
        "# Sort by worst efficiency first\n",
        "batch_stats = batch_stats.sort_values('Efficiency', ascending=True)\n",
        "\n",
        "# Final output\n",
        "print(batch_stats[[\n",
        "    'Batch', 'Product', 'Operator',\n",
        "    'Minutes Of Production', 'Clock_HHMM',\n",
        "    'Downtime minutes', 'Downtime_HHMM',\n",
        "    'Efficiency'\n",
        "]].to_string(index=False))"
      ],
      "metadata": {
        "id": "-GG-7wWYmql5",
        "colab": {
          "base_uri": "https://localhost:8080/"
        },
        "outputId": "453d571b-25ad-481d-e243-719ac529a3cf"
      },
      "execution_count": null,
      "outputs": [
        {
          "output_type": "stream",
          "name": "stdout",
          "text": [
            " Batch Product Operator  Minutes Of Production Clock_HHMM  Downtime minutes Downtime_HHMM  Efficiency\n",
            "422111  OR-600      Mac                  135.0     2h 15m                75        1h 15m        44.4\n",
            "422123  CO-600   Dennis                  133.0     2h 13m                73        1h 13m        45.1\n",
            "422147   CO-2L  Charlie                  205.0     3h 25m               107        1h 47m        47.8\n",
            "422140  RB-600      Dee                  123.0      2h 3m                63         1h 3m        48.8\n",
            "422118  CO-600      Dee                  120.0      2h 0m                60         1h 0m        50.0\n",
            "422143  RB-600   Dennis                  118.0     1h 57m                58        0h 58m        50.8\n",
            "422128  CO-600  Charlie                  112.0     1h 52m                52        0h 52m        53.6\n",
            "422120  CO-600      Dee                  112.0     1h 52m                52        0h 52m        53.6\n",
            "422113  LE-600      Mac                  110.0     1h 49m                50        0h 50m        54.5\n",
            "422134  DC-600      Mac                  110.0     1h 50m                50        0h 50m        54.5\n",
            "422135  DC-600      Mac                  105.0     1h 44m                45        0h 45m        57.1\n",
            "422137  RB-600      Dee                  105.0     1h 45m                45        0h 45m        57.1\n",
            "422126  CO-600  Charlie                  104.0     1h 43m                44        0h 44m        57.7\n",
            "422112  LE-600      Mac                  100.0     1h 39m                40        0h 40m        60.0\n",
            "422124  CO-600   Dennis                  100.0     1h 39m                40        0h 40m        60.0\n",
            "422114  LE-600      Mac                  100.0     1h 40m                40        0h 40m        60.0\n",
            "422146   CO-2L  Charlie                  160.0     2h 40m                62         1h 2m        61.3\n",
            "422139  RB-600      Dee                   95.0     1h 34m                35        0h 35m        63.2\n",
            "422144   CO-2L   Dennis                  152.0     2h 32m                54        0h 54m        64.5\n",
            "422131  CO-600      Dee                   90.0     1h 30m                30        0h 30m        66.7\n",
            "422142  RB-600   Dennis                   90.0     1h 30m                30        0h 30m        66.7\n",
            "422119  CO-600      Dee                   85.0     1h 25m                25        0h 25m        70.6\n",
            "422122  CO-600   Dennis                   85.0     1h 25m                25        0h 25m        70.6\n",
            "422115  LE-600  Charlie                   84.0     1h 24m                24        0h 24m        71.4\n",
            "422127  CO-600  Charlie                   83.0     1h 23m                23        0h 23m        72.3\n",
            "422138  RB-600      Dee                   80.0     1h 20m                20        0h 20m        75.0\n",
            "422130  CO-600      Dee                   80.0     1h 19m                20        0h 20m        75.0\n",
            "422125  CO-600  Charlie                   80.0     1h 20m                20        0h 20m        75.0\n",
            "422133  DC-600      Dee                   80.0     1h 19m                20        0h 20m        75.0\n",
            "422148   CO-2L      Mac                  130.0      2h 9m                32        0h 32m        75.4\n",
            "422117  LE-600  Charlie                   75.0     1h 15m                15        0h 15m        80.0\n",
            "422129  CO-600  Charlie                   75.0     1h 14m                15        0h 15m        80.0\n",
            "422121  CO-600   Dennis                   75.0     1h 14m                15        0h 15m        80.0\n",
            "422145   CO-2L  Charlie                  120.0     1h 59m                22        0h 22m        81.7\n",
            "422141  RB-600   Dennis                   67.0      1h 7m                 7         0h 7m        89.6\n",
            "422116  LE-600  Charlie                   60.0     0h 59m                 0         0h 0m       100.0\n",
            "422136  DC-600      Mac                   60.0     0h 59m                 0         0h 0m       100.0\n",
            "422132  CO-600      Dee                   60.0      1h 0m                 0         0h 0m       100.0\n"
          ]
        }
      ]
    },
    {
      "cell_type": "markdown",
      "source": [
        "## ***2. Products Analysis:***"
      ],
      "metadata": {
        "id": "HPNAK2AtpGry"
      }
    },
    {
      "cell_type": "markdown",
      "source": [
        "## **•\tWhat is the most frequently produced product?**"
      ],
      "metadata": {
        "id": "OzvMV5W9pZqS"
      }
    },
    {
      "cell_type": "code",
      "source": [
        "# Calculate production metrics\n",
        "production_stats = df.groupby(['Product', 'Flavor']).agg(\n",
        "    Batch_Count=('Batch', 'nunique'),\n",
        "    Total_Production_Minutes=('Minutes Of Production', 'sum')\n",
        ").reset_index()\n",
        "\n",
        "# Convert to hours and calculate all metrics\n",
        "production_stats['Total_Production_Hours'] = (production_stats['Total_Production_Minutes'] / 60).round(1)\n",
        "production_stats['Hours_per_Batch'] = (production_stats['Total_Production_Minutes'] / production_stats['Batch_Count'] / 60).round(2)\n",
        "production_stats['Mins_per_Batch'] = (production_stats['Total_Production_Minutes'] / production_stats['Batch_Count']).round(1)\n",
        "\n",
        "# Calculate percentages\n",
        "total_production_hours = production_stats['Total_Production_Hours'].sum()\n",
        "production_stats['Percentage_of_Total_Products'] = (production_stats['Total_Production_Hours'] / total_production_hours * 100).round(1)\n",
        "\n",
        "# Sort by production volume\n",
        "production_stats = production_stats.sort_values('Total_Production_Hours', ascending=False)\n",
        "\n",
        "# Display results\n",
        "print(\"Production Analysis by Product:\")\n",
        "print(production_stats[['Product', 'Flavor', 'Batch_Count',\n",
        "                       'Total_Production_Hours', 'Hours_per_Batch',\n",
        "                       'Mins_per_Batch', 'Percentage_of_Total_Products']].to_string(index=False))"
      ],
      "metadata": {
        "id": "NSd_y60gpRoT",
        "colab": {
          "base_uri": "https://localhost:8080/"
        },
        "outputId": "766606fc-6077-4c02-f8ee-87a7db542ad3"
      },
      "execution_count": null,
      "outputs": [
        {
          "output_type": "stream",
          "name": "stdout",
          "text": [
            "Production Analysis by Product:\n",
            "Product     Flavor  Batch_Count  Total_Production_Hours  Hours_per_Batch  Mins_per_Batch  Percentage_of_Total_Products\n",
            " CO-600       Cola           15                    41.6             2.77           166.2                          35.5\n",
            "  CO-2L       Cola            5                    29.7             5.93           355.8                          25.3\n",
            " RB-600 Root Berry            7                    18.6             2.66           159.9                          15.9\n",
            " LE-600 Lemon lime            6                    13.4             2.23           134.0                          11.4\n",
            " DC-600  Diet Cola            4                     9.5             2.37           142.5                           8.1\n",
            " OR-600     Orange            1                     4.5             4.50           270.0                           3.8\n"
          ]
        }
      ]
    },
    {
      "cell_type": "markdown",
      "source": [
        "## **• Which product has the highest/lowest production efficiency?**"
      ],
      "metadata": {
        "id": "zkW1IWKOtn1d"
      }
    },
    {
      "cell_type": "code",
      "source": [
        "# Calculate total downtime per batch (summing all downtime events)\n",
        "batch_downtime = df.groupby('Batch').agg(\n",
        "    Total_Downtime=('Downtime minutes', 'sum'),\n",
        "    Downtime_Events=('Downtime minutes', 'count')\n",
        ").reset_index()\n",
        "\n",
        "# Get production time (first record per batch)\n",
        "batch_production = df.groupby('Batch').first()[['Product', 'Flavor', 'Product_Size', 'Minutes Of Production']]\n",
        "\n",
        "# Merge the data\n",
        "batch_stats = pd.merge(batch_production, batch_downtime, on='Batch')\n",
        "\n",
        "# Calculate true efficiency and downtime percentage\n",
        "batch_stats['Productive_Minutes'] = batch_stats['Minutes Of Production'] - batch_stats['Total_Downtime']\n",
        "batch_stats['Efficiency'] = (batch_stats['Productive_Minutes'] / batch_stats['Minutes Of Production'])\n",
        "batch_stats['Downtime_Percentage'] = (batch_stats['Total_Downtime'] / batch_stats['Minutes Of Production'])\n",
        "\n",
        "# Aggregate by product and format\n",
        "product_stats = batch_stats.groupby(['Product', 'Flavor', 'Product_Size']).agg({\n",
        "    'Efficiency': 'mean',\n",
        "    'Downtime_Percentage': 'mean',\n",
        "    'Minutes Of Production': 'sum',\n",
        "    'Productive_Minutes': 'sum',\n",
        "    'Total_Downtime': 'sum',\n",
        "    'Batch': 'count'\n",
        "}).rename(columns={\n",
        "    'Batch': 'Batch_Count',\n",
        "    'Minutes Of Production': 'Total_Clock_Minutes',\n",
        "    'Total_Downtime': 'Total_Downtime_Minutes'\n",
        "})\n",
        "\n",
        "# Convert to hours and format percentages\n",
        "product_stats['Total_Production_Hours'] = (product_stats['Total_Clock_Minutes'] / 60).round(1)\n",
        "product_stats['Productive_Hours'] = (product_stats['Productive_Minutes'] / 60).round(1)\n",
        "product_stats['Downtime_Hours'] = (product_stats['Total_Downtime_Minutes'] / 60).round(1)\n",
        "product_stats['Efficiency'] = (product_stats['Efficiency'] * 100).round(1).astype(str) + '%'\n",
        "product_stats['Downtime_Percentage'] = (product_stats['Downtime_Percentage'] * 100).round(1).astype(str) + '%'\n",
        "\n",
        "# Final formatted output\n",
        "result = product_stats[['Batch_Count', 'Efficiency', 'Downtime_Percentage',\n",
        "                       'Total_Production_Hours', 'Productive_Hours', 'Downtime_Hours']]\\\n",
        "          .sort_values('Efficiency', ascending=False)\n",
        "\n",
        "print(result.to_string())"
      ],
      "metadata": {
        "id": "_spYyV75tIob",
        "colab": {
          "base_uri": "https://localhost:8080/"
        },
        "outputId": "68e768a2-d748-42f2-e0ff-6459ca1ee577"
      },
      "execution_count": null,
      "outputs": [
        {
          "output_type": "stream",
          "name": "stdout",
          "text": [
            "                                 Batch_Count Efficiency Downtime_Percentage  Total_Production_Hours  Productive_Hours  Downtime_Hours\n",
            "Product Flavor     Product_Size                                                                                                      \n",
            "DC-600  Diet Cola  600 ml                  4      71.7%               28.3%                     5.9               4.0             1.9\n",
            "LE-600  Lemon lime 600 ml                  6      71.0%               29.0%                     8.8               6.0             2.8\n",
            "CO-600  Cola       600 ml                 15      67.3%               32.7%                    23.2              15.0             8.2\n",
            "CO-2L   Cola       2 L                     5      66.1%               33.9%                    12.8               8.2             4.6\n",
            "RB-600  Root Berry 600 ml                  7      64.4%               35.6%                    11.3               7.0             4.3\n",
            "OR-600  Orange     600 ml                  1      44.4%               55.6%                     2.2               1.0             1.2\n"
          ]
        }
      ]
    },
    {
      "cell_type": "code",
      "source": [
        "# Convert Start Time to datetime and extract hour\n",
        "df['Start Time'] = pd.to_datetime(df['Start Time'])\n",
        "df['Hour'] = df['Start Time'].dt.hour\n",
        "\n",
        "# Define shifts\n",
        "def categorize_shift(hour):\n",
        "    if 6 <= hour < 14: return 'Morning (6AM-2PM)'\n",
        "    elif 14 <= hour < 22: return 'Afternoon (2PM-10PM)'\n",
        "    else: return 'Night (10PM-6AM)'\n",
        "\n",
        "# Apply shift categorization\n",
        "df['Shift'] = df['Hour'].apply(categorize_shift)\n",
        "\n",
        "# Define custom sorting order for shifts\n",
        "shift_order = ['Morning (6AM-2PM)', 'Afternoon (2PM-10PM)', 'Night (10PM-6AM)']\n",
        "\n",
        "# Get unique batches per shift and date\n",
        "batches_per_shift = df.groupby(['Shift', 'Date'])['Batch'].nunique().reset_index()\n",
        "\n",
        "# Calculate average batches per shift (overall), round, and reindex\n",
        "overall_avg = (batches_per_shift.groupby('Shift')['Batch']\n",
        "               .mean()\n",
        "               .round(1)\n",
        "               .reindex(shift_order))\n",
        "\n",
        "# Get unique batches per shift, product, and date\n",
        "batches_per_shift_product = df.groupby(['Shift', 'Product', 'Date'])['Batch'].nunique().reset_index()\n",
        "\n",
        "# Calculate average batches per shift by product, fill NaN with 0, round, and reindex\n",
        "product_avg = (batches_per_shift_product.groupby(['Shift', 'Product'])['Batch']\n",
        "               .mean()\n",
        "               .unstack()\n",
        "               .fillna(0)\n",
        "               .round(1)\n",
        "               .reindex(shift_order))\n",
        "\n",
        "print(\"Average number of batches produced per shift (overall):\")\n",
        "print(overall_avg)\n",
        "print(\"\\nAverage number of batches produced per shift by product:\")\n",
        "print(product_avg)"
      ],
      "metadata": {
        "id": "J3B6Rq_c5NKv",
        "colab": {
          "base_uri": "https://localhost:8080/"
        },
        "outputId": "2cd08f56-a536-4845-c8cf-1d4e51239842"
      },
      "execution_count": null,
      "outputs": [
        {
          "output_type": "stream",
          "name": "stdout",
          "text": [
            "Average number of batches produced per shift (overall):\n",
            "Shift\n",
            "Morning (6AM-2PM)       3.8\n",
            "Afternoon (2PM-10PM)    4.0\n",
            "Night (10PM-6AM)        2.3\n",
            "Name: Batch, dtype: float64\n",
            "\n",
            "Average number of batches produced per shift by product:\n",
            "Product               CO-2L  CO-600  DC-600  LE-600  OR-600  RB-600\n",
            "Shift                                                              \n",
            "Morning (6AM-2PM)       1.0     4.0     2.0     0.0     1.0     3.0\n",
            "Afternoon (2PM-10PM)    3.0     5.0     2.0     6.0     0.0     0.0\n",
            "Night (10PM-6AM)        1.0     2.0     0.0     0.0     0.0     4.0\n"
          ]
        },
        {
          "output_type": "stream",
          "name": "stderr",
          "text": [
            "<ipython-input-10-88e6847fb527>:2: UserWarning: Could not infer format, so each element will be parsed individually, falling back to `dateutil`. To ensure parsing is consistent and as-expected, please specify a format.\n",
            "  df['Start Time'] = pd.to_datetime(df['Start Time'])\n"
          ]
        }
      ]
    },
    {
      "cell_type": "markdown",
      "source": [
        "## ***3. Downtime Factors:***"
      ],
      "metadata": {
        "id": "sCbi0k71OvcM"
      }
    },
    {
      "cell_type": "markdown",
      "source": [
        "## **• What are the most common causes of downtime?**\n",
        "\n"
      ],
      "metadata": {
        "id": "Ghihq_CdWFFu"
      }
    },
    {
      "cell_type": "code",
      "source": [
        "downtime_data = df[df['Downtime minutes'] > 0].copy()\n",
        "\n",
        "# Count all individual records per cause\n",
        "dt_cause_analysis = downtime_data.groupby('Downtime factors.Description').agg(\n",
        "    Occurrences=('Downtime minutes', 'count'),  # Counts ALL records\n",
        "    Total_Minutes=('Downtime minutes', 'sum'),\n",
        "    Affected_Batches=('Batch', 'nunique')       # Unique batches per cause\n",
        ").sort_values('Total_Minutes', ascending=False)\n",
        "\n",
        "# Convert to hours and format\n",
        "dt_cause_analysis['Total_Hours'] = (dt_cause_analysis['Total_Minutes'] / 60).round(1)\n",
        "dt_cause_analysis['Avg_Minutes_Per_Event'] = (dt_cause_analysis['Total_Minutes'] / dt_cause_analysis['Occurrences']).round(1)\n",
        "\n",
        "# Rename columns for clarity\n",
        "dt_cause_analysis = dt_cause_analysis.rename(columns={\n",
        "    'Downtime factors.Description': 'Cause',\n",
        "    'Occurrences': 'Total_Events',\n",
        "    'Total_Minutes': 'Total_Minutes'\n",
        "})\n",
        "\n",
        "# Display full results\n",
        "print(\"\\nDowntime Cause Analysis:\")\n",
        "print(dt_cause_analysis[['Total_Events', 'Affected_Batches', 'Total_Minutes',\n",
        "                        'Total_Hours', 'Avg_Minutes_Per_Event']].to_string())"
      ],
      "metadata": {
        "id": "fnBbZxiKfN3i",
        "colab": {
          "base_uri": "https://localhost:8080/"
        },
        "outputId": "c58d9b59-3cf6-43d3-99a5-9c0f677b4169"
      },
      "execution_count": null,
      "outputs": [
        {
          "output_type": "stream",
          "name": "stdout",
          "text": [
            "\n",
            "Downtime Cause Analysis:\n",
            "                              Total_Events  Affected_Batches  Total_Minutes  Total_Hours  Avg_Minutes_Per_Event\n",
            "Downtime factors.Description                                                                                   \n",
            "Machine adjustment                      12                12            332          5.5                   27.7\n",
            "Machine failure                         11                11            254          4.2                   23.1\n",
            "Inventory shortage                       9                 9            225          3.8                   25.0\n",
            "Batch change                             5                 5            160          2.7                   32.0\n",
            "Batch coding error                       6                 6            145          2.4                   24.2\n",
            "Other                                    6                 6             74          1.2                   12.3\n",
            "Product spill                            3                 3             57          1.0                   19.0\n",
            "Calibration error                        3                 3             49          0.8                   16.3\n",
            "Labeling error                           2                 2             42          0.7                   21.0\n",
            "Label switch                             3                 3             33          0.6                   11.0\n",
            "Conveyor belt jam                        1                 1             17          0.3                   17.0\n"
          ]
        }
      ]
    },
    {
      "cell_type": "markdown",
      "source": [
        "## **•\tHow often do operator errors contribute to downtime?**"
      ],
      "metadata": {
        "id": "g3GHmSTUWfVL"
      }
    },
    {
      "cell_type": "code",
      "source": [
        "# Filter valid downtime events\n",
        "downtime_events = df[df['Downtime minutes'] > 0].copy()\n",
        "\n",
        "# Calculate total downtime\n",
        "total_downtime_minutes = downtime_events['Downtime minutes'].sum()\n",
        "\n",
        "# Group by operator error status\n",
        "operator_error_stats = downtime_events.groupby('Operator Error').agg(\n",
        "    Total_Events=('Downtime minutes', 'count'),\n",
        "    Total_Minutes=('Downtime minutes', 'sum')\n",
        ").reset_index()\n",
        "\n",
        "# Calculate percentages and hours\n",
        "operator_error_stats['Total_Hours'] = (operator_error_stats['Total_Minutes'] / 60).round(1)\n",
        "operator_error_stats['Percentage_of_Total_Events'] = (operator_error_stats['Total_Events'] / 61 * 100).round(1)\n",
        "\n",
        "# Format output\n",
        "result = operator_error_stats[['Operator Error', 'Total_Events', 'Total_Minutes', 'Total_Hours', 'Percentage_of_Total_Events']]\n",
        "print(result.to_string(index=False))"
      ],
      "metadata": {
        "id": "geUpZcENaBJl",
        "colab": {
          "base_uri": "https://localhost:8080/"
        },
        "outputId": "41f8433a-3615-4de0-beda-224385ad6cc4"
      },
      "execution_count": null,
      "outputs": [
        {
          "output_type": "stream",
          "name": "stdout",
          "text": [
            "Operator Error  Total_Events  Total_Minutes  Total_Hours  Percentage_of_Total_Events\n",
            "            No            29            612         10.2                        47.5\n",
            "           Yes            32            776         12.9                        52.5\n"
          ]
        }
      ]
    },
    {
      "cell_type": "markdown",
      "source": [
        "## **•\tMost common downtime factor caused by operator error**"
      ],
      "metadata": {
        "id": "omGPNAq9dGHU"
      }
    },
    {
      "cell_type": "code",
      "source": [
        "# Get operator-caused downtime\n",
        "operator_errors = df[(df['Downtime minutes'] > 0) &\n",
        "                    (df['Operator Error'] == 'Yes')]\n",
        "\n",
        "# Analyze and format results\n",
        "error_analysis = (\n",
        "    operator_errors.groupby('Downtime factors.Description')\n",
        "    .agg(Occurrences=('Downtime minutes', 'count'),\n",
        "         Total_Downtime_Hours=('Downtime minutes', lambda x: round(x.sum()/60, 1))\n",
        "    )\n",
        "    .sort_values('Total_Downtime_Hours', ascending=False)\n",
        "    .reset_index()\n",
        ")\n",
        "\n",
        "# Rename for clarity\n",
        "error_analysis.columns = ['Error Type', 'Occurrences', 'Total Hours']\n",
        "print(error_analysis.to_string(index=False))"
      ],
      "metadata": {
        "id": "EMqLtBb8Xpnr",
        "colab": {
          "base_uri": "https://localhost:8080/"
        },
        "outputId": "c68bd570-cf7f-4f78-bd59-ea2eb218ee98"
      },
      "execution_count": null,
      "outputs": [
        {
          "output_type": "stream",
          "name": "stdout",
          "text": [
            "        Error Type  Occurrences  Total Hours\n",
            "Machine adjustment           12          5.5\n",
            "      Batch change            5          2.7\n",
            "Batch coding error            6          2.4\n",
            "     Product spill            3          1.0\n",
            " Calibration error            3          0.8\n",
            "      Label switch            3          0.6\n"
          ]
        }
      ]
    },
    {
      "cell_type": "markdown",
      "source": [
        "## **• Are there patterns in downtime based on time of day or shift?**"
      ],
      "metadata": {
        "id": "wphQsjt54v1G"
      }
    },
    {
      "cell_type": "code",
      "source": [
        "df['Start Hour'] = pd.to_datetime(df['Start Time'], format='%H:%M:%S').dt.hour\n",
        "\n",
        "df['Shift'] = df['Start Hour'].apply(categorize_shift)\n",
        "\n",
        "# Analyze downtime patterns\n",
        "downtime_patterns = df[df['Downtime minutes'] > 0].groupby(['Shift', 'Start Hour']).agg(\n",
        "    Total_Downtime=('Downtime minutes', 'sum'),\n",
        "    Occurrences=('Downtime minutes', 'count')\n",
        ").reset_index()\n",
        "\n",
        "# Calculate hourly averages\n",
        "hourly_avg = downtime_patterns.groupby('Start Hour').agg(\n",
        "    Avg_Downtime=('Total_Downtime', 'mean')\n",
        ").reset_index()\n",
        "# Shift-wise summary\n",
        "shift_summary = df[df['Downtime minutes'] > 0].groupby('Shift').agg(\n",
        "    Total_Downtime_Minutes=('Downtime minutes', 'sum'),\n",
        "    Occurrences=('Downtime minutes', 'count')\n",
        ").sort_values('Total_Downtime_Minutes', ascending=False)\n",
        "\n",
        "shift_summary['Total_Hours'] = (shift_summary['Total_Downtime_Minutes'] / 60).round(1)\n",
        "print(\"\\nShift-wise Downtime Summary:\")\n",
        "print(shift_summary[['Occurrences', 'Total_Downtime_Minutes', 'Total_Hours']])"
      ],
      "metadata": {
        "id": "T5NyPzfsbsH8",
        "colab": {
          "base_uri": "https://localhost:8080/"
        },
        "outputId": "6a8fce6f-6b01-4fde-b4e5-d11879c74cc1"
      },
      "execution_count": null,
      "outputs": [
        {
          "output_type": "stream",
          "name": "stdout",
          "text": [
            "\n",
            "Shift-wise Downtime Summary:\n",
            "                      Occurrences  Total_Downtime_Minutes  Total_Hours\n",
            "Shift                                                                 \n",
            "Afternoon (2PM-10PM)           25                     584          9.7\n",
            "Morning (6AM-2PM)              22                     534          8.9\n",
            "Night (10PM-6AM)               14                     270          4.5\n"
          ]
        }
      ]
    },
    {
      "cell_type": "markdown",
      "source": [
        "## ***4. Operator Performance:***"
      ],
      "metadata": {
        "id": "erocadqq82Sp"
      }
    },
    {
      "cell_type": "markdown",
      "source": [
        "## **• Which operator has the best/worst efficiency ratio?**"
      ],
      "metadata": {
        "id": "McyEXlpb9Z6F"
      }
    },
    {
      "cell_type": "code",
      "source": [
        "# Step 1: Aggregate data by Batch-Operator to handle multiple records\n",
        "batch_operator_stats = df.groupby(['Batch', 'Operator']).agg({\n",
        "    'Minutes Of Production': 'max',  # Use max to get the total production time (including downtime)\n",
        "    'Downtime minutes': 'sum'       # Sum all downtime minutes for the batch\n",
        "}).reset_index()\n",
        "\n",
        "# Step 2: Calculate actual production time (subtract downtime from total production time)\n",
        "batch_operator_stats['Actual Production Minutes'] = (\n",
        "    batch_operator_stats['Minutes Of Production'] -\n",
        "    batch_operator_stats['Downtime minutes']\n",
        ")\n",
        "\n",
        "# Step 3: Aggregate by Operator\n",
        "operator_stats = batch_operator_stats.groupby('Operator').agg(\n",
        "    total_actual_production=('Actual Production Minutes', 'sum'),\n",
        "    total_downtime=('Downtime minutes', 'sum')\n",
        ").reset_index()\n",
        "\n",
        "# Calculate efficiency ratio (production/downtime)\n",
        "operator_stats['Efficiency Ratio'] = (\n",
        "    operator_stats['total_actual_production'] /\n",
        "    operator_stats['total_downtime'].replace(0, 0.1)  # Avoid division by zero\n",
        ")\n",
        "\n",
        "# Sort by efficiency (best to worst)\n",
        "operator_stats = operator_stats.sort_values('Efficiency Ratio', ascending=False)\n",
        "\n",
        "print(operator_stats[['Operator', 'Efficiency Ratio',\n",
        "                     'total_actual_production', 'total_downtime']]\n",
        "      .to_string(index=False, float_format='%.1f'))\n",
        "\n",
        "# Identify best and worst\n",
        "best_op = operator_stats.iloc[0]\n",
        "worst_op = operator_stats.iloc[-1]\n",
        "\n",
        "print(f\"\\nMost Efficient Operator: {best_op['Operator']} (Ratio: {best_op['Efficiency Ratio']:.1f})\")\n",
        "print(f\"Least Efficient Operator: {worst_op['Operator']} (Ratio: {worst_op['Efficiency Ratio']:.1f})\")"
      ],
      "metadata": {
        "id": "Z-DNV5BCJgGI",
        "outputId": "29ba4061-9717-4093-c975-e8dabee429f4",
        "colab": {
          "base_uri": "https://localhost:8080/"
        }
      },
      "execution_count": null,
      "outputs": [
        {
          "output_type": "stream",
          "name": "stdout",
          "text": [
            "Operator  Efficiency Ratio  total_actual_production  total_downtime\n",
            " Charlie               2.0                    774.0             384\n",
            "     Dee               1.8                    660.0             370\n",
            "  Dennis               1.7                    518.0             302\n",
            "     Mac               1.6                    518.0             332\n",
            "\n",
            "Most Efficient Operator: Charlie (Ratio: 2.0)\n",
            "Least Efficient Operator: Mac (Ratio: 1.6)\n"
          ]
        }
      ]
    },
    {
      "cell_type": "code",
      "source": [
        "# Step 1: Group by Batch-Operator-Shift to aggregate all downtime factors\n",
        "batch_operator_shift_stats = df.groupby(['Batch', 'Operator', 'Shift']).agg(\n",
        "    Total_Production_With_Downtime=('Minutes Of Production', 'max'),  # Max to get full duration\n",
        "    Total_Downtime=('Downtime minutes', 'sum')                       # Sum all downtime factors\n",
        ").reset_index()\n",
        "\n",
        "# Step 2: Calculate actual production time (excluding downtime)\n",
        "batch_operator_shift_stats['Actual_Production'] = (\n",
        "    batch_operator_shift_stats['Total_Production_With_Downtime'] -\n",
        "    batch_operator_shift_stats['Total_Downtime']\n",
        ")\n",
        "\n",
        "# Step 3: Aggregate by Operator-Shift\n",
        "operator_shift_stats = batch_operator_shift_stats.groupby(['Operator', 'Shift']).agg(\n",
        "    Total_Actual_Production=('Actual_Production', 'sum'),\n",
        "    Total_Downtime=('Total_Downtime', 'sum')\n",
        ").reset_index()\n",
        "\n",
        "# Calculate efficiency ratio (production/downtime)\n",
        "operator_shift_stats['Efficiency'] = (\n",
        "    operator_shift_stats['Total_Actual_Production'] /\n",
        "    operator_shift_stats['Total_Downtime'].replace(0, 0.001)  # Avoid division by zero\n",
        ").round(1)\n",
        "\n",
        "# Convert Shift to categorical with specified order\n",
        "shift_order = ['Morning (6AM-2PM)', 'Afternoon (2PM-10PM)', 'Night (10PM-6AM)']\n",
        "operator_shift_stats['Shift'] = pd.Categorical(\n",
        "    operator_shift_stats['Shift'],\n",
        "    categories=shift_order,\n",
        "    ordered=True\n",
        ")\n",
        "\n",
        "# Create pivot table with ordered columns\n",
        "pivot_result = operator_shift_stats.pivot(\n",
        "    index='Operator',\n",
        "    columns='Shift',\n",
        "    values='Efficiency'\n",
        ").fillna(0)[shift_order]  # Explicit column ordering\n",
        "\n",
        "# Format output\n",
        "styled_result = pivot_result.style\\\n",
        "    .background_gradient(cmap='RdYlGn', axis=None, vmin=0, vmax=5)\\\n",
        "    .format('{:.1f}')\\\n",
        "    .set_caption('Operator Efficiency Ratio (Actual Production/Downtime) by Shift')\\\n",
        "    .highlight_null('white')\n",
        "\n",
        "display(styled_result)"
      ],
      "metadata": {
        "colab": {
          "base_uri": "https://localhost:8080/",
          "height": 223
        },
        "id": "QXv-VzAoosuT",
        "outputId": "9e7116f6-41b4-4a21-9ad7-29f5affeb90b"
      },
      "execution_count": 19,
      "outputs": [
        {
          "output_type": "display_data",
          "data": {
            "text/plain": [
              "<pandas.io.formats.style.Styler at 0x7e1d1d484c10>"
            ],
            "text/html": [
              "<style type=\"text/css\">\n",
              "#T_5fd2b_row0_col0, #T_5fd2b_row1_col1, #T_5fd2b_row2_col2 {\n",
              "  background-color: #a50026;\n",
              "  color: #f1f1f1;\n",
              "}\n",
              "#T_5fd2b_row0_col1 {\n",
              "  background-color: #fed683;\n",
              "  color: #000000;\n",
              "}\n",
              "#T_5fd2b_row0_col2 {\n",
              "  background-color: #66bd63;\n",
              "  color: #f1f1f1;\n",
              "}\n",
              "#T_5fd2b_row1_col0 {\n",
              "  background-color: #fff8b4;\n",
              "  color: #000000;\n",
              "}\n",
              "#T_5fd2b_row1_col2 {\n",
              "  background-color: #f99355;\n",
              "  color: #000000;\n",
              "}\n",
              "#T_5fd2b_row2_col0, #T_5fd2b_row3_col1 {\n",
              "  background-color: #fdc372;\n",
              "  color: #000000;\n",
              "}\n",
              "#T_5fd2b_row2_col1 {\n",
              "  background-color: #fdad60;\n",
              "  color: #000000;\n",
              "}\n",
              "#T_5fd2b_row3_col0 {\n",
              "  background-color: #f46d43;\n",
              "  color: #f1f1f1;\n",
              "}\n",
              "#T_5fd2b_row3_col2 {\n",
              "  background-color: #cfeb85;\n",
              "  color: #000000;\n",
              "}\n",
              "</style>\n",
              "<table id=\"T_5fd2b\" class=\"dataframe\">\n",
              "  <caption>Operator Efficiency Ratio (Actual Production/Downtime) by Shift</caption>\n",
              "  <thead>\n",
              "    <tr>\n",
              "      <th class=\"index_name level0\" >Shift</th>\n",
              "      <th id=\"T_5fd2b_level0_col0\" class=\"col_heading level0 col0\" >Morning (6AM-2PM)</th>\n",
              "      <th id=\"T_5fd2b_level0_col1\" class=\"col_heading level0 col1\" >Afternoon (2PM-10PM)</th>\n",
              "      <th id=\"T_5fd2b_level0_col2\" class=\"col_heading level0 col2\" >Night (10PM-6AM)</th>\n",
              "    </tr>\n",
              "    <tr>\n",
              "      <th class=\"index_name level0\" >Operator</th>\n",
              "      <th class=\"blank col0\" >&nbsp;</th>\n",
              "      <th class=\"blank col1\" >&nbsp;</th>\n",
              "      <th class=\"blank col2\" >&nbsp;</th>\n",
              "    </tr>\n",
              "  </thead>\n",
              "  <tbody>\n",
              "    <tr>\n",
              "      <th id=\"T_5fd2b_level0_row0\" class=\"row_heading level0 row0\" >Charlie</th>\n",
              "      <td id=\"T_5fd2b_row0_col0\" class=\"data row0 col0\" >0.0</td>\n",
              "      <td id=\"T_5fd2b_row0_col1\" class=\"data row0 col1\" >1.9</td>\n",
              "      <td id=\"T_5fd2b_row0_col2\" class=\"data row0 col2\" >4.0</td>\n",
              "    </tr>\n",
              "    <tr>\n",
              "      <th id=\"T_5fd2b_level0_row1\" class=\"row_heading level0 row1\" >Dee</th>\n",
              "      <td id=\"T_5fd2b_row1_col0\" class=\"data row1 col0\" >2.4</td>\n",
              "      <td id=\"T_5fd2b_row1_col1\" class=\"data row1 col1\" >0.0</td>\n",
              "      <td id=\"T_5fd2b_row1_col2\" class=\"data row1 col2\" >1.3</td>\n",
              "    </tr>\n",
              "    <tr>\n",
              "      <th id=\"T_5fd2b_level0_row2\" class=\"row_heading level0 row2\" >Dennis</th>\n",
              "      <td id=\"T_5fd2b_row2_col0\" class=\"data row2 col0\" >1.7</td>\n",
              "      <td id=\"T_5fd2b_row2_col1\" class=\"data row2 col1\" >1.5</td>\n",
              "      <td id=\"T_5fd2b_row2_col2\" class=\"data row2 col2\" >0.0</td>\n",
              "    </tr>\n",
              "    <tr>\n",
              "      <th id=\"T_5fd2b_level0_row3\" class=\"row_heading level0 row3\" >Mac</th>\n",
              "      <td id=\"T_5fd2b_row3_col0\" class=\"data row3 col0\" >1.0</td>\n",
              "      <td id=\"T_5fd2b_row3_col1\" class=\"data row3 col1\" >1.7</td>\n",
              "      <td id=\"T_5fd2b_row3_col2\" class=\"data row3 col2\" >3.1</td>\n",
              "    </tr>\n",
              "  </tbody>\n",
              "</table>\n"
            ]
          },
          "metadata": {}
        }
      ]
    },
    {
      "cell_type": "code",
      "source": [],
      "metadata": {
        "id": "o2bPRS3fLnX1"
      },
      "execution_count": null,
      "outputs": []
    }
  ]
}